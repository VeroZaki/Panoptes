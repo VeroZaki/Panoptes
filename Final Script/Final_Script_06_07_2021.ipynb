{
 "cells": [
  {
   "cell_type": "code",
   "execution_count": 1,
   "id": "a99a8f26",
   "metadata": {},
   "outputs": [],
   "source": [
    "import keras \n",
    "import keras_retinanet\n",
    "from keras import layers\n",
    "from keras import backend as b\n",
    "from keras.utils.vis_utils import plot_model\n",
    "from keras_retinanet import models\n",
    "#-----------------------------------------------------------------------------\n",
    "import tensorflow as tf\n",
    "from tensorflow import keras\n",
    "from tensorflow.keras.preprocessing.image import ImageDataGenerator\n",
    "from tensorflow.keras.optimizers import Adam\n",
    "from tensorflow.keras.applications.mobilenet_v2 import preprocess_input\n",
    "from tensorflow.keras.preprocessing.image import img_to_array\n",
    "from tensorflow.keras.preprocessing.image import load_img\n",
    "from tensorflow.keras.utils import to_categorical\n",
    "from tensorflow.keras.preprocessing.image import ImageDataGenerator\n",
    "from keras.layers import Input, Dense ,Concatenate,concatenate ,AveragePooling2D, Dropout ,Flatten,Dense,Input\n",
    "from tensorflow.keras.applications import MobileNetV2\n",
    "from tensorflow.keras.models import Model\n",
    "from keras.models import Model ,load_model\n",
    "from tensorflow.keras.applications import  VGG16\n",
    "#-----------------------------------------------------------------------------\n",
    "import time\n",
    "from timeit import default_timer as timer   \n",
    "import cv2\n",
    "import argparse\n",
    "import os\n",
    "import numpy as np\n",
    "import matplotlib.pyplot as plt\n",
    "import gc\n",
    "from numba import jit, cuda\n",
    "#-----------------------------------------------------------------------------\n",
    "from sklearn.preprocessing import LabelBinarizer\n",
    "from sklearn.model_selection import train_test_split\n",
    "from sklearn.metrics import classification_report\n",
    "from imutils import paths\n",
    "\n",
    "\n",
    "from absl import app, flags, logging\n",
    "from absl.flags import FLAGS\n",
    "\n",
    "from tensorflow.python.saved_model import tag_constants\n",
    "from PIL import Image\n",
    "\n",
    "\n",
    "from tensorflow.compat.v1 import ConfigProto\n",
    "from tensorflow.compat.v1 import InteractiveSession\n",
    "\n",
    "import imutils\n",
    "from imutils.video import VideoStream\n",
    "import gc\n",
    "\n",
    "from twilio.rest import Client\n",
    "import sys"
   ]
  },
  {
   "cell_type": "code",
   "execution_count": 2,
   "id": "1bc9643d",
   "metadata": {},
   "outputs": [],
   "source": [
    "physical_devices = tf.config.experimental.list_physical_devices('GPU')\n",
    "if len(physical_devices) > 0:\n",
    "    tf.config.experimental.set_memory_growth(physical_devices[0], True)"
   ]
  },
  {
   "cell_type": "code",
   "execution_count": 3,
   "id": "2a277133",
   "metadata": {},
   "outputs": [
    {
     "data": {
      "text/plain": [
       "'C:\\\\Users\\\\mnaga\\\\Desktop\\\\Graduation_Project'"
      ]
     },
     "execution_count": 3,
     "metadata": {},
     "output_type": "execute_result"
    }
   ],
   "source": [
    "pwd"
   ]
  },
  {
   "cell_type": "code",
   "execution_count": 4,
   "id": "e327741e",
   "metadata": {},
   "outputs": [],
   "source": [
    "#Path for custom weapon folder"
   ]
  },
  {
   "cell_type": "code",
   "execution_count": 5,
   "id": "36c7557d",
   "metadata": {
    "scrolled": true
   },
   "outputs": [
    {
     "name": "stdout",
     "output_type": "stream",
     "text": [
      "C:\\Users\\mnaga\\Desktop\\Graduation_Project\\Custom_Weapon\n"
     ]
    }
   ],
   "source": [
    "cd Custom_Weapon"
   ]
  },
  {
   "cell_type": "code",
   "execution_count": 6,
   "id": "bc1b9c1d",
   "metadata": {},
   "outputs": [
    {
     "data": {
      "text/plain": [
       "'C:\\\\Users\\\\mnaga\\\\Desktop\\\\Graduation_Project\\\\Custom_Weapon'"
      ]
     },
     "execution_count": 6,
     "metadata": {},
     "output_type": "execute_result"
    }
   ],
   "source": [
    "pwd"
   ]
  },
  {
   "cell_type": "code",
   "execution_count": 7,
   "id": "27c1f107",
   "metadata": {},
   "outputs": [],
   "source": [
    "import core.utils as utils\n",
    "from core.yolov4 import filter_boxes"
   ]
  },
  {
   "cell_type": "code",
   "execution_count": 8,
   "id": "e19ff8b8",
   "metadata": {},
   "outputs": [],
   "source": [
    "config = ConfigProto()\n",
    "config.gpu_options.allow_growth = True\n",
    "session = InteractiveSession(config=config)\n",
    "input_size = 416\n",
    "saved_model_loaded = tf.saved_model.load(r\"./custom-416\", tags=[tag_constants.SERVING])\n",
    "infer = saved_model_loaded.signatures['serving_default']"
   ]
  },
  {
   "cell_type": "code",
   "execution_count": 9,
   "id": "b2edd46a",
   "metadata": {},
   "outputs": [],
   "source": [
    "def weapon (frame):\n",
    "    frame = cv2.cvtColor(frame, cv2.COLOR_BGR2RGB)\n",
    "    image = Image.fromarray(frame)\n",
    "    frame_size = frame.shape[:2]\n",
    "    image_data = cv2.resize(frame, (input_size, input_size))\n",
    "    image_data = image_data / 255.\n",
    "    image_data = image_data[np.newaxis, ...].astype(np.float32)\n",
    "    start_time = time.time()\n",
    "\n",
    "    batch_data = tf.constant(image_data)\n",
    "    pred_bbox = infer(batch_data)\n",
    "    for key, value in pred_bbox.items():\n",
    "        boxes = value[:, :, 0:4]\n",
    "        pred_conf = value[:, :, 4:]\n",
    "#----------------------------------------------------------\n",
    "    boxes, scores, classes, valid_detections = tf.image.combined_non_max_suppression(\n",
    "        boxes=tf.reshape(boxes, (tf.shape(boxes)[0], -1, 1, 4)),\n",
    "        scores=tf.reshape( pred_conf, (tf.shape(pred_conf)[0], -1, tf.shape(pred_conf)[-1])),\n",
    "        max_output_size_per_class=50,\n",
    "        max_total_size=50,\n",
    "        #threshold and score\n",
    "        iou_threshold= 0.6,\n",
    "        score_threshold= 0.6)\n",
    "    pred_bbox = [boxes.numpy(), scores.numpy(), classes.numpy(), valid_detections.numpy()]\n",
    "    image , cc = utils.draw_bbox(frame, pred_bbox)\n",
    "    fps = 1.0 / (time.time() - start_time)\n",
    "    result = np.asarray(image)\n",
    "    result = cv2.cvtColor(image, cv2.COLOR_RGB2BGR)\n",
    "    return cc , result"
   ]
  },
  {
   "cell_type": "code",
   "execution_count": 10,
   "id": "0fe0ac39",
   "metadata": {},
   "outputs": [],
   "source": [
    "OPENCV_DNN_OPENCL_ALLOW_ALL_DEVICES= 1"
   ]
  },
  {
   "cell_type": "code",
   "execution_count": 11,
   "id": "17c192db",
   "metadata": {},
   "outputs": [],
   "source": [
    "def detect_and_predict_mask(frame, faceNet, maskNet):\n",
    "\t# grab the dimensions of the frame and then construct a blob\n",
    "\t# from it\n",
    "\t(hight, width) = frame.shape[:2]\n",
    "\tblob = cv2.dnn.blobFromImage(frame, 1.0, (224,224),\n",
    "\t\t(104.0, 177.0, 123.0))\n",
    "\n",
    "\t# pass the blob through the network and obtain the face detections\n",
    "\tfaceNet.setInput(blob)\n",
    "\tdetections = faceNet.forward()\n",
    "\tprint(detections.shape)\n",
    "\n",
    "\t# initialize our list of faces, their corresponding locations,\n",
    "\t# and the list of predictions from our face mask network\n",
    "\tfaces = []\n",
    "\tlocs = []\n",
    "\tpreds = []\n",
    "\n",
    "\t# loop over the detections\n",
    "\tfor i in range(0, detections.shape[2]):\n",
    "\t\t# extract the confidence (i.e., probability) associated with\n",
    "\t\t# the detection\n",
    "\t\tconfidence = detections[0, 0, i, 2]\n",
    "\n",
    "\t\t# filter out weak detections by ensuring the confidence is\n",
    "\t\t# greater than the minimum confidence\n",
    "\t\tif confidence > 0.5:\n",
    "\t\t\t# compute the (x, y)-coordinates of the bounding box for\n",
    "\t\t\t# the object\n",
    "\t\t\tbox = detections[0, 0, i, 3:7] * np.array([width, hight, width, hight])\n",
    "\t\t\t(startX, startY, endX, endY) = box.astype(\"int\")\n",
    "\n",
    "\t\t\t# ensure the bounding boxes fall within the dimensions of\n",
    "\t\t\t# the frame\n",
    "\t\t\t(startX, startY) = (max(0, startX), max(0, startY))\n",
    "\t\t\t(endX, endY) = (min(width - 1, endX), min(hight - 1, endY))\n",
    "\n",
    "\t\t\t# extract the face ROI, convert it from BGR to RGB channel\n",
    "\t\t\t# ordering, resize it to 224x224, and preprocess it\n",
    "\t\t\tface = frame[startY:endY, startX:endX]\n",
    "\t\t\tprint(face.shape)\n",
    "\t\t\tface = cv2.cvtColor(face, cv2.COLOR_RGB2BGR)  #COLOR_RGB2GRAY\n",
    "\t\t\tface = cv2.resize(face, (224,224))\n",
    "\t\t\tface = img_to_array(face)\n",
    "\t\t\tface = preprocess_input(face)\n",
    "\n",
    "\t\t\t# add the face and bounding boxes to their respective\n",
    "\t\t\t# lists\n",
    "\t\t\tfaces.append(face)\n",
    "\t\t\tlocs.append((startX, startY, endX, endY))\n",
    "\n",
    "\t# only make a predictions if at least one face was detected\n",
    "\tif len(faces) > 0:\n",
    "\t\t# for faster inference we'll make batch predictions on *all*\n",
    "\t\t# faces at the same time rather than one-by-one predictions\n",
    "\t\t# in the above `for` loop\n",
    "\t\tfaces = np.array(faces, dtype=\"float32\")\n",
    "\t\tpreds = maskNet.predict(faces, batch_size=64)\n",
    "\n",
    "\t# return a 2-tuple of the face locations and their corresponding\n",
    "\t# locations\n",
    "\treturn (locs, preds)"
   ]
  },
  {
   "cell_type": "code",
   "execution_count": 12,
   "id": "79920b21",
   "metadata": {},
   "outputs": [],
   "source": [
    "def Shoplifting_prediction (image,features) :\n",
    "    color = (0,0,255)\n",
    "    RGB_img = cv2.cvtColor(image, cv2.COLOR_BGR2RGB)\n",
    "    res = cv2.resize(RGB_img, dsize=(64, 64),interpolation=cv2.INTER_AREA)\n",
    "    res = (res/255.).astype(np.float16)\n",
    "    global label_shoplifting\n",
    "    # Reshaping to put the number of the videos\n",
    "    features.append(res)\n",
    "\n",
    "    if len(features) == 30:\n",
    "        AfterReshape = np.reshape(np.array(features), (1 ,30,64,64 ,3)).astype(np.float16)\n",
    "        prediction = model_Shoplifting.predict(AfterReshape)\n",
    "        if prediction[0][1] > 0.972: \n",
    "            print(\"Normal with :\",prediction[0][1])\n",
    "            color = (0,255,0)\n",
    "            label_shoplifting = \"Normal\"\n",
    "        else :\n",
    "            print(\"Shoplifting :\",prediction[0][0])\n",
    "            color = (0,0,255)\n",
    "            label_shoplifting = \"Shoplifting\"\n",
    "        features = []\n",
    "    cv2.putText(image,label_shoplifting, (0,30), cv2.FONT_HERSHEY_SIMPLEX, 0.8,color, 2, cv2.LINE_AA)\n",
    "    return label_shoplifting"
   ]
  },
  {
   "cell_type": "code",
   "execution_count": 13,
   "id": "20417a08",
   "metadata": {},
   "outputs": [],
   "source": [
    "def mask(frame, faceNet, maskNet): \n",
    "    (locs, preds) = detect_and_predict_mask(frame, faceNet, maskNet)\n",
    "    label = \"\"\n",
    "    if len(preds)==1 :\n",
    "        (masked_face , mask, withoutMask) = preds[0]\n",
    "        for (box, pred) in zip(locs, preds):\n",
    "\n",
    "            # unpack the bounding box and predictions\n",
    "            (startX, startY, endX, endY) = box\n",
    "\n",
    "            if (mask > withoutMask and mask > masked_face):\n",
    "                label = \"Normal Mask\" \n",
    "            elif (withoutMask > mask and withoutMask > masked_face):\n",
    "                label = \"No Mask\" \n",
    "            elif (masked_face > mask and masked_face > withoutMask):\n",
    "                label = \"Threat\"\n",
    "\n",
    "            if label == \"Normal Mask\":\n",
    "                color = (0, 255, 0) \n",
    "            elif label == \"No Mask\":\n",
    "                color = (255, 0, 0)\n",
    "            elif label == \"Threat\":\n",
    "                color = (0, 0, 255)\n",
    "\n",
    "            l = \"{}: {:.2f}%\".format(label, max(masked_face , mask, withoutMask) * 100)\n",
    "            # frame\n",
    "            cv2.putText(frame, l, (startX, startY - 10),\n",
    "            cv2.FONT_HERSHEY_SIMPLEX, 0.45, color, 2)\n",
    "            cv2.rectangle(frame, (startX, startY), (endX, endY), color, 2)\n",
    "            return label\n",
    "    else: \n",
    "        return \"No thing\""
   ]
  },
  {
   "cell_type": "code",
   "execution_count": 14,
   "id": "b06867d3",
   "metadata": {},
   "outputs": [],
   "source": [
    "def Voilence_prediction (image,features) :\n",
    "    color = (0,0,255)    \n",
    "    RGB_img = cv2.cvtColor(frame, cv2.COLOR_BGR2RGB) \n",
    "    res = cv2.resize(RGB_img, dsize=(img_size, img_size),interpolation=cv2.INTER_AREA)\n",
    "    global label_Voilence\n",
    "    features.append(res)\n",
    "\n",
    "    if len(features) == 40:\n",
    "        test_data = np.array(features)\n",
    "        resul = (test_data / 255.).astype(np.float16)\n",
    "        transfer_values_testing2 = image_model_transfer.predict(resul)\n",
    "        AfterReshape2 =  np.reshape(transfer_values_testing2, (1 , 40 , 4096))\n",
    " \n",
    "        y_score = model_Voilence.predict(AfterReshape2)  \n",
    "        li = [[item] for c_list in y_score for item in y_score]\n",
    "        \n",
    "        First = li[0][0][0]\n",
    "        second = li[0][0][1]\n",
    "    \n",
    "\n",
    "        labels = ['Violence', 'Non-Violence']\n",
    "        x = np.arange(len(labels))\n",
    "        y = []\n",
    "\n",
    "        if First > second:\n",
    "            y = [First, 0]\n",
    "            label_Voilence = \"Violence\" #+ str (y)\n",
    "        else:\n",
    "            y = [0, second]\n",
    "            label_Voilence = \"Non-Violence\" #+ str (y)\n",
    "          \n",
    "        features = []\n",
    "    #cv2.putText(image,label_Voilence, (0,60), cv2.FONT_HERSHEY_SIMPLEX, 0.8,color, 2, cv2.LINE_AA)\n",
    "    cv2.putText(image,label_Voilence, (0,60), cv2.FONT_HERSHEY_SIMPLEX, 0.8,color, 2, cv2.LINE_AA)\n",
    "    return label_Voilence"
   ]
  },
  {
   "cell_type": "code",
   "execution_count": 15,
   "id": "2b74c80b",
   "metadata": {},
   "outputs": [],
   "source": [
    "def avg_predictions():\n",
    "    global weapon_array\n",
    "    global mask_array\n",
    "    global Shoplifting\n",
    "    global Voilence\n",
    "        \n",
    "    global features_shoplifting \n",
    "    global features_Voilence \n",
    "\n",
    "    global count_shoplifting \n",
    "    global count_Voilence \n",
    "    \n",
    "    global AVG_Mask_Decision \n",
    "    global AVG_Weapon_Decision\n",
    "#-----------------------------------------------------------------\n",
    "    count_shoplifting = count_shoplifting +1\n",
    "    count_Voilence = count_Voilence +1\n",
    "    #----------------------------------------\n",
    "    if count_shoplifting > 30 :\n",
    "        features_shoplifting = []\n",
    "        count_shoplifting  = 0\n",
    "#AVG_Weapn -------------------------------------------------------------------------------------------\n",
    "    if count_Voilence < 40 :\n",
    "        if Weapon[0:6] == \"Weapon\":\n",
    "\n",
    "            weapon_array.append(1)\n",
    "        else: \n",
    "            weapon_array.append(0)\n",
    "    else:\n",
    "        print(weapon_array)\n",
    "        Weapon_Avg = np.mean(weapon_array)\n",
    "        print(\"Weapon_Avg >> \" + str(Weapon_Avg))\n",
    "        if Weapon_Avg >= 0.35:\n",
    "            AVG_Weapon_Decision = \"Weapon\"\n",
    "        else:\n",
    "            AVG_Weapon_Decision = \"No Weapon\"\n",
    "        print(\"Weapon Array :: \")\n",
    "        weapon_array =[]\n",
    "        print(\"----------------------------------------------------\")\n",
    "\n",
    "#AVG_Mask -------------------------------------------------------------------------------------------\n",
    "    if count_Voilence < 40 :\n",
    "        if  Mask == \"Threat\":\n",
    "            mask_array.append(1)\n",
    "        else:\n",
    "            mask_array.append(0)\n",
    "    else:\n",
    "        print(mask_array)\n",
    "        Mask_Avg = np.mean(mask_array)\n",
    "        print(\"Mask Avg :: \"+str(Mask_Avg))\n",
    "        if Mask_Avg >= 0.35:\n",
    "            print(\"Threat\")\n",
    "            AVG_Mask_Decision = \"Threat\"\n",
    "        else: \n",
    "            print(\"No Threat\")\n",
    "            AVG_Mask_Decision = \"No Threat\"\n",
    "            \n",
    "        print(\"Mask_Array :: \")\n",
    "        mask_array =[]\n",
    "        print(\"----------------------------------------------------\")"
   ]
  },
  {
   "cell_type": "code",
   "execution_count": 16,
   "id": "bfc8400a",
   "metadata": {},
   "outputs": [],
   "source": [
    "# model_Shoplifting = tf.keras.models.load_model(r\"C:\\Users\\mnaga\\Desktop\\Shplifting_live\\shoplifting_30frames_CONVLSTM3_25.h5\")"
   ]
  },
  {
   "cell_type": "code",
   "execution_count": 17,
   "id": "575ebe3f",
   "metadata": {},
   "outputs": [
    {
     "data": {
      "text/plain": [
       "'C:\\\\Users\\\\mnaga\\\\Desktop\\\\Graduation_Project\\\\Custom_Weapon'"
      ]
     },
     "execution_count": 17,
     "metadata": {},
     "output_type": "execute_result"
    }
   ],
   "source": [
    "pwd"
   ]
  },
  {
   "cell_type": "code",
   "execution_count": 18,
   "id": "24b00dbe",
   "metadata": {},
   "outputs": [
    {
     "name": "stdout",
     "output_type": "stream",
     "text": [
      "C:\\Users\\mnaga\\Desktop\\Graduation_Project\n"
     ]
    }
   ],
   "source": [
    "cd .."
   ]
  },
  {
   "cell_type": "code",
   "execution_count": 19,
   "id": "ccaa3e58",
   "metadata": {},
   "outputs": [],
   "source": [
    "# Mask ::: \n",
    "mask_dict = {0: \"Masked-face\", 1: \"Mask\", 2: \"Without_Mask\"}\n",
    "prototxtPath = r\"H5_Models\\haarcascade_xml\\deploy.prototxt\"\n",
    "weightsPath = r\"H5_Models\\haarcascade_xml\\res10_300x300_ssd_iter_140000.caffemodel\"\n",
    "maskNet = tf.keras.models.load_model(r\"Mask_Model\\Mask_model.h5\")\n",
    "faceNet = cv2.dnn.readNet(prototxtPath, weightsPath)\n",
    "#---------------------------------\n",
    "#Shoplifting ::\n",
    "model_Shoplifting = tf.keras.models.load_model(r\"Shplifting_live\\shoplifting_30frames_CONVLSTM3_25.h5\")\n",
    "#------------------------------------------\n",
    "vid_model = VGG16(include_top=True, weights='imagenet')\n",
    "transfer_layer = vid_model.get_layer('fc2')\n",
    "image_model_transfer = Model(inputs=vid_model.input,outputs=transfer_layer.output)\n",
    "model_Voilence = tf.keras.models.load_model(r\"Voilence_Model\\Violencev5.h5\")\n",
    "img_size = 224\n",
    "#------------------------------------------"
   ]
  },
  {
   "cell_type": "code",
   "execution_count": 20,
   "id": "626054da",
   "metadata": {},
   "outputs": [],
   "source": [
    "# facial_model = tf.keras.models.load_model(r\"H5_Models\\Facial_Model_v6.h5\")"
   ]
  },
  {
   "cell_type": "code",
   "execution_count": 21,
   "id": "d374aa2b",
   "metadata": {},
   "outputs": [],
   "source": [
    "# def fecial (frame): \n",
    "#     gray = cv2.cvtColor(frame, cv2.COLOR_BGR2GRAY)\n",
    "#     face_cascade = cv2.CascadeClassifier(r\"C:\\Users\\mnaga\\Desktop\\H5_Models\\haarcascade_xml\\haarcascade_frontalface_default.xml\")\n",
    "#     faces = face_cascade.detectMultiScale(gray, 1.3, 5)\n",
    "    \n",
    "#     for (x, y, w, h) in faces:\n",
    "#         cv2.rectangle(frame, (x, y), (x + w, y + h), (0, 255, 0), 1)\n",
    "#         roi_gray = gray[y:y + h, x:x + w]\n",
    "#         cropped_img = np.expand_dims(np.expand_dims(cv2.resize(roi_gray, (48, 48)), -1), 0)\n",
    "#         cv2.normalize(cropped_img, cropped_img, alpha=0, beta=1, norm_type=cv2.NORM_L2, dtype=cv2.CV_32F)\n",
    "#         prediction = facial_model.predict(cropped_img)\n",
    "#         cv2.putText(frame, emotion_dict[int(np.argmax(prediction))], (x, y), cv2.FONT_HERSHEY_SIMPLEX, 0.8, (0, 255, 0), 1, cv2.LINE_AA)\n",
    "#         return emotion_dict[int(np.argmax(prediction))]"
   ]
  },
  {
   "cell_type": "code",
   "execution_count": 22,
   "id": "50bd8cb6",
   "metadata": {},
   "outputs": [],
   "source": [
    "from twilio.rest import Client"
   ]
  },
  {
   "cell_type": "code",
   "execution_count": 23,
   "id": "5e014a08",
   "metadata": {},
   "outputs": [],
   "source": [
    "def SMS_Alert(case):\n",
    "    account_sid = \"AC7c9122d3a1cedc051d1e914d56ed4b68\"\n",
    "    auth_token = \"b1791e6e215d22117de5aac6a774c853\"\n",
    "    client = Client(account_sid , auth_token)\n",
    "    client.messages.create(from_=\"+12019421776\" , body=case ,to=\"+201275599845\")\n",
    "    print(\"SMS >> sended\")"
   ]
  },
  {
   "cell_type": "code",
   "execution_count": 24,
   "id": "9893eb7e",
   "metadata": {},
   "outputs": [],
   "source": [
    "def final_Decision ():\n",
    "    global AVG_Mask_Decision \n",
    "    global AVG_Weapon_Decision\n",
    "    \n",
    "    global Shoplifting\n",
    "    global Voilence\n",
    "    \n",
    "    if Shoplifting == \"Shoplifting\" :\n",
    "        #SMS_Alert(\"Alert : \"+Shoplifting)\n",
    "        return\n",
    "    elif AVG_Weapon_Decision == \"Weapon\" :\n",
    "        #SMS_Alert(\"Alert : \"+AVG_Weapon_Decision)\n",
    "        return\n",
    "    \n",
    "    elif Voilence == \"Violence\":\n",
    "        #SMS_Alert(\"Alert : \"+ Voilence)\n",
    "        return\n",
    "    \n",
    "    elif AVG_Mask_Decision  == \"Threat\" :\n",
    "        #SMS_Alert(\"Alert : \"+ AVG_Mask_Decision )\n",
    "        return\n",
    "    else : \n",
    "        return"
   ]
  },
  {
   "cell_type": "code",
   "execution_count": 25,
   "id": "b69b5267",
   "metadata": {},
   "outputs": [],
   "source": [
    "# cd C:\\Users\\mnaga\\Desktop\\Notebook's"
   ]
  },
  {
   "cell_type": "code",
   "execution_count": null,
   "id": "0948502f",
   "metadata": {
    "scrolled": false
   },
   "outputs": [
    {
     "name": "stdout",
     "output_type": "stream",
     "text": [
      "[INFO] starting video stream...\n",
      "(1, 1, 200, 7)\n",
      "(1, 1, 200, 7)\n",
      "(1, 1, 200, 7)\n",
      "(1, 1, 200, 7)\n",
      "(1, 1, 200, 7)\n",
      "(1, 1, 200, 7)\n",
      "(1, 1, 200, 7)\n",
      "(1, 1, 200, 7)\n",
      "(1, 1, 200, 7)\n",
      "(1, 1, 200, 7)\n",
      "(1, 1, 200, 7)\n",
      "(1, 1, 200, 7)\n",
      "(1, 1, 200, 7)\n",
      "(1, 1, 200, 7)\n",
      "(1, 1, 200, 7)\n",
      "(1, 1, 200, 7)\n",
      "(1, 1, 200, 7)\n",
      "(1, 1, 200, 7)\n",
      "(1, 1, 200, 7)\n",
      "(1, 1, 200, 7)\n",
      "(1, 1, 200, 7)\n",
      "(1, 1, 200, 7)\n",
      "(1, 1, 200, 7)\n",
      "(1, 1, 200, 7)\n",
      "(1, 1, 200, 7)\n",
      "(1, 1, 200, 7)\n",
      "(1, 1, 200, 7)\n",
      "(1, 1, 200, 7)\n",
      "(1, 1, 200, 7)\n",
      "(1, 1, 200, 7)\n",
      "Normal with : 0.9998134\n",
      "(1, 1, 200, 7)\n",
      "(320, 235, 3)\n"
     ]
    }
   ],
   "source": [
    "#open webcam .. \n",
    "# initialize the video stream\n",
    "print(\"[INFO] starting video stream...\")\n",
    "\n",
    "label_shoplifting = \"shoplifting >> neutral\"\n",
    "label_Voilence = \"violence >> neutral\"\n",
    "\n",
    "features_shoplifting = []\n",
    "features_Voilence = []\n",
    "\n",
    "count_shoplifting = 0 \n",
    "count_Voilence = 0\n",
    "\n",
    "weapon_array = []\n",
    "mask_array = [] \n",
    "\n",
    "AVG_Mask_Decision =\"No Avg decision for Mask\"\n",
    "AVG_Weapon_Decision =\"No Avg decision for Weapon\"\n",
    "\n",
    "cap = cv2.VideoCapture(1)\n",
    "#cap = cv2.VideoCapture(\"shoplifting.mp4\")\n",
    "while True:\n",
    "    ret,frame = cap.read()\n",
    "    if ret == False : \n",
    "        break\n",
    "    frame = imutils.resize(frame, width=700)\n",
    "    color = (0, 0, 255)\n",
    "    #----------------------------------------\n",
    "    #Mask ::\n",
    "    Mask = mask(frame, faceNet, maskNet)\n",
    "    #Weapon ::\n",
    "    Weapon , frame = weapon(frame)\n",
    "    # Shoplifting ::\n",
    "    Shoplifting =Shoplifting_prediction(frame,features_shoplifting)\n",
    "    #Voilence :: \n",
    "    Voilence = Voilence_prediction (frame,features_Voilence)\n",
    "    #-------------\n",
    "    avg_predictions()\n",
    "    #-------------\n",
    "    if count_Voilence == 40 :\n",
    "        final_Decision ()\n",
    "        features_Voilence = []\n",
    "        count_Voilence = 0\n",
    "    #--------------------\n",
    "    cv2.imshow(\"frame\" , frame)\n",
    "\n",
    "    if cv2.waitKey(1) & 0xFF == ord('q'):\n",
    "        break\n",
    "#--------------------------------------------------      \n",
    "frame =[]\n",
    "features_shoplifting = []\n",
    "features_Voilence = []\n",
    "count_shoplifting = 0 \n",
    "count_Voilence = 0\n",
    "weapon_array = []\n",
    "mask_array = [] \n",
    "#-------------------------------------------------\n",
    "cap.release()\n",
    "cv2.destroyAllWindows()"
   ]
  },
  {
   "cell_type": "code",
   "execution_count": null,
   "id": "f00f525b",
   "metadata": {},
   "outputs": [],
   "source": []
  }
 ],
 "metadata": {
  "kernelspec": {
   "display_name": "gpu2",
   "language": "python",
   "name": "gpu2"
  },
  "language_info": {
   "codemirror_mode": {
    "name": "ipython",
    "version": 3
   },
   "file_extension": ".py",
   "mimetype": "text/x-python",
   "name": "python",
   "nbconvert_exporter": "python",
   "pygments_lexer": "ipython3",
   "version": "3.8.8"
  }
 },
 "nbformat": 4,
 "nbformat_minor": 5
}
